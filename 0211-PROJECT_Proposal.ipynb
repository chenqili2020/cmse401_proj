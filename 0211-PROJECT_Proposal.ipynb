{
 "cells": [
  {
   "cell_type": "markdown",
   "metadata": {},
   "source": [
    "[Link to this document's Jupyter Notebook](./0211-PROJECT_Proposal.ipynb)"
   ]
  },
  {
   "cell_type": "markdown",
   "metadata": {},
   "source": [
    "# CMSE401 Project Proposal\n",
    "\n",
    "In this milestone project you will write a project proposal submit it using a git repository that you create and share with your instructor. This repository will be used for the remainder of the course to turn in all project related files. \n",
    "1. [Project overview](#Project-overview)\n",
    "2. [Project Proposal](#Project-Proposal)\n",
    "3. [Setting up your GIT repository](#-Setting-up-your-GIT-repository)\n",
    "4. [Turning in your Project](#-Turning-in-your-Project)\n",
    "\n",
    "\n",
    "\n",
    "---\n",
    "<a name=Project-overview></a>\n",
    "# 1. Project overview\n",
    "\n",
    "Before you begin you need to do some research about the software and problems you want to explore. Your instructor has a lot of experience helping students find projects that are fun/interesting and will meet all of the class requirements.  Please schedule an appointment with your instructor either during office hours or by appointment.\n",
    "\n",
    "Class projects will include Three key milestones:\n",
    "\n",
    "- **Milestone 1: Project Proposals** - (This assignment) Overview of what you would like to do for your projects.  What software will you explore, what science problem you will solve and what are the expected outcomes. Also the creation of a git repository. \n",
    "- **Milestone 2: Software Exploration** - You will explore software NOT covered in this course. Software may include a library, programming language, hardware, scientific code, etc).  The project will require you to learn about the software, get it installed and working on the HPC (or equivalent) and write up a short tutorial with examples with enough details so that your peers can get it up and running).  See [0325-PROJECT_Part1](0325-PROJECT_Part1.ipynb) for more information.\n",
    "- **Milestone 3: Benchmark and Optimization** - You will identify an existing scientific/engineering problem that currently runs slow.  You will either write a new program form scratch or modify an existing code to run in parallel.  You may also modify an existing parallel code to run in parallel faster.   You may, but are not required to use the software you explored in milestone 2 of the project. See [0415-PROJECT_Part2](0415-PROJECT_Part2.ipynb) for more information.\n",
    "\n",
    "\n",
    "### Software ideas for Milestone 1\n",
    "\n",
    "```\n",
    "OpenFlow\n",
    "Blast\n",
    "Petsci\n",
    "OpenMM\n",
    "MKL\n",
    "BLAS\n",
    "FFTW\n",
    "Kokkos\n",
    "Charm++\n",
    "Python Numba\n",
    "FPGA\n",
    "Tensorflow\n",
    "GPU\n",
    "OpenACC\n",
    "OpenCV\n",
    "MakeFlow\n",
    "Hadoop\n",
    "Tensorflows\n",
    "Torch\n",
    "Twister\n",
    "Condor\n",
    "XSEDE\n",
    "```\n",
    "\n"
   ]
  },
  {
   "cell_type": "markdown",
   "metadata": {},
   "source": [
    "\n",
    "---\n",
    "<a name=Project-Proposal></a>\n",
    "# 2. Project Proposal\n",
    "\n",
    "\n",
    "\n",
    "\n",
    "\n",
    "Please write a 1-page proposal about what you plan to do for your project.  If you do not have any ideas you should go talk with your instructor.  The proposal should consist of the following:\n",
    "\n",
    "- Project title\n",
    "- Motivating picture\n",
    "- Abstract - summary about why you picked. your project and what it is going to cover\n",
    "- Schedule - Weekly schedule of what you plan on doing (so you don't fall behind)\n",
    "- Software Exploration - Which application did you pick out for your software exploration\n",
    "- Benchmark and optimization - What problem are you trying to make go faster\n",
    "\n",
    "The following is a basic template you can use for your project proposal.  Your instructor highly recommends using either markdown or jupyternotebooks when writing your proposal."
   ]
  },
  {
   "cell_type": "markdown",
   "metadata": {},
   "source": [
    "---- START TEMPLATE ----"
   ]
  },
  {
   "cell_type": "markdown",
   "metadata": {},
   "source": [
    "# Methods to optimizing rendering for Blender on HPCC \n",
    "\n",
    "By \"Samuel Chen\""
   ]
  },
  {
   "cell_type": "markdown",
   "metadata": {},
   "source": [
    "&#9989; Replace the following with a picture that \"defines\" your project.  This could be software logo, an expected outcome of your project, or a graphical representation of the research area. \n",
    "<img alt=\"Blender\" src=\"https://iconarchive.com/download/i98223/dakirby309/simply-styled/Blender.ico\" width=\"20%\">\n",
    "\n",
    "<img alt=\"Unity\" src=\"data:image/png;base64,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\" width=\"20%\">\n",
    "\n",
    "\n",
    "\n",
    "Image from: [unity.com](unity.com) and [https://iconarchive.com/tag/blender](https://iconarchive.com/tag/blender)"
   ]
  },
  {
   "cell_type": "markdown",
   "metadata": {},
   "source": [
    "---\n",
    "### Abstract\n",
    "\n",
    "&#9989;  Provide a short paragraph about the domain you are going to cover in your project (research area, sports, economics, etc). Explain why you picked this domain (i.e. what is your motivation). Explain how computation is used I this domain.    Give a short description that describes the software are you want to explore,  what hardware are you going to use during this exploration, what you hope to benchmark, what you hope to speed up and and what will be a successful outcome.  \n"
   ]
  },
  {
   "cell_type": "markdown",
   "metadata": {},
   "source": [
    "The domain that will be covered in this project is image/video rendering in blender. \\\n",
    "I picked this topic because I like blender/Unity, those two are really powerful software, \\\n",
    "Blender is mostly use to make 3Dmodle and 3D video rendering, Unity is for game development. \\\n",
    "When I benchmark blender, I hope I can get a reasonable result (in time unity) and the \\\n",
    "successful result will be much faster than the benchmark result.\n",
    "\n",
    "(Unity will be my back up choice)"
   ]
  },
  {
   "cell_type": "markdown",
   "metadata": {},
   "source": [
    "----\n",
    "### Schedule\n",
    "&#9989;  provide a schedule for you to complete all of your milestones on time.  Include what you plan to work on each week from now until when the projects are due:\n",
    "\n",
    "\n",
    "* Thursday February 11 - Project Proposal Milestone Due\n",
    "* Week of February 15 - install apps on HPCC\n",
    "* Week of February 22 \n",
    "* Week of March 1 - make the apps run some example\n",
    "* Week of March 8\n",
    "* Week of March 15 - bench mark the result\n",
    "* Week of March 21 - conduct a timing study\n",
    "* Week of March 22\n",
    "* Thursday March 25 - Project Part 1 Due\n",
    "* Week of March 28 - check compile optmization options\n",
    "* Week of March 29 \n",
    "* Week of April 5  - make code run in paralle and benchmark it \n",
    "* Week of April 12 - conduct a timing study\n",
    "* Thursday April 15 - Final Project due"
   ]
  },
  {
   "cell_type": "markdown",
   "metadata": {},
   "source": [
    "---\n",
    "### Part 1 Software Exploration\n",
    "\n",
    "&#9989;  Provide a more detailed paragraph about the software you are going to review for the first part of the assignment.  Again this will vary based on project but provide any links (references) and information on where you plan to start.  Also descrbe what you expect as the outcome of this step.  Will you have a list of instructions for running the code on the HPC or maybe a folder in a format compatible with ```getexample```?\n"
   ]
  },
  {
   "cell_type": "markdown",
   "metadata": {},
   "source": [
    " Ref:https://docs.blender.org/manual/en/latest/render/introduction.html\\\n",
    " \n",
    "Blender is the free and open source 3D creation suite. \\\n",
    "It supports the entirety of the 3D pipeline—modeling, rigging, animation, simulation, rendering, \\\n",
    "compositing and motion tracking, video editing and 2D animation pipeline.\\\n",
    "\n",
    "Rendering is the process of turning a 3D scene into a 2D image. Blender includes three render engines \\\n",
    "with different strengths: Eevee is a physically based realtime renderer. \\\n",
    "\n",
    "Cycles is a physically based path tracer. Workbench is designed for layout, modeling and previews.\n",
    "\n",
    "I personally used blender before, and I like this software, so I am going to get a blender animation example(or static scenes) \\\n",
    "to render in blender and benchmark it. I expect the run time will be somewhat a long time (may vary depends on different situation) \\\n",
    "I check one example is the getexample, but didn't fully render it yet, so I am not sure if this is an animation or scenes.\n"
   ]
  },
  {
   "cell_type": "markdown",
   "metadata": {},
   "source": [
    "---\n",
    "### Part 2 Benchmark and Optimization\n",
    "\n",
    "&#9989;  Explain what code you are going to benchmark.  Do you know if it already can be run in parallel?  If so what types of things are you going to look for to optimize the though put of the software.  How will you evaluate the software to know if the project is successful? What do you hope/expect to deliver and a successful outcome in your final report?  For example, you plan to implement ```openmp``` and demonstrate 20 times speedup in the code or I plan to identify a bottleneck in the code and demonstrate a 4x speed up the slow.  "
   ]
  },
  {
   "cell_type": "markdown",
   "metadata": {},
   "source": [
    "I am going to benchmark the `.sh` file which makes the code run, but I am not sure the course code can be run in \\\n",
    "parallel yet. If I want to optimize the code, I have to check the source code which was called to run \" in the .sh file \" \\\n",
    "\n",
    "Since blender is based on Python, I guess there is not optimazation for compiling, the only thing I can think about so far is to make a \\ \n",
    "blender farm, devide the render job to different nodes. (run in parallel), but I have to figure it out how to run parallel in python\\\n",
    "\n",
    "The outcome will be vary based on different nodes I used and the processor that the computer was using, but it should be much faster than the original non-parallel result.\n",
    "\n",
    "After bechmark, I will save the \n",
    "time and conduct a timing study and making plots using python to show different rendering result in different condition (such as how many \\ cores and node were used)"
   ]
  },
  {
   "cell_type": "markdown",
   "metadata": {},
   "source": [
    "---- END TEMPLATE ----"
   ]
  },
  {
   "cell_type": "markdown",
   "metadata": {},
   "source": [
    "---\n",
    "<a name=-Setting-up-your-GIT-repository></a>\n",
    "# 3.  Setting up your GIT repository\n",
    "\n",
    "\n",
    "To submit your proposal you are going to create a project folder, commit your proposal to the folder and share your git repository with your instructor.  The following videos from the  [Getting to know git (Tutorial)](https://msu-cmse-courses.github.io/cmse802-f20-student/0000--Jupyter-Getting-Started-Guide.html) and may be helpful setting up your repository."
   ]
  },
  {
   "cell_type": "code",
   "execution_count": null,
   "metadata": {},
   "outputs": [],
   "source": [
    "# Git init intorduction https://www.youtube.com/playlist?list=PLqPfbT7gwVP_AlE6HeDQUJsG4nUbGyeh3\n",
    "from IPython.display import YouTubeVideo\n",
    "YouTubeVideo(\"IAAv4DjYYUA\",width=640,height=360, cc_load_policy=True)"
   ]
  },
  {
   "cell_type": "markdown",
   "metadata": {},
   "source": [
    "The following video are instructions specifically for how to use the MSU Gitlab"
   ]
  },
  {
   "cell_type": "code",
   "execution_count": null,
   "metadata": {},
   "outputs": [],
   "source": [
    "#Inicializing Repository using Gitlab https://www.youtube.com/playlist?list=PLqPfbT7gwVP_AlE6HeDQUJsG4nUbGyeh3\n",
    "from IPython.display import YouTubeVideo\n",
    "YouTubeVideo(\"6_cegMFG0Pw\",width=640,height=360, cc_load_policy=True)"
   ]
  },
  {
   "cell_type": "markdown",
   "metadata": {},
   "source": [
    "The following are instructions for how to use the more general Github:"
   ]
  },
  {
   "cell_type": "code",
   "execution_count": null,
   "metadata": {},
   "outputs": [],
   "source": [
    "#Inicializing Repository using Github\n",
    "from IPython.display import YouTubeVideo\n",
    "YouTubeVideo(\"dpeHlFm8SYU\",width=640,height=360, cc_load_policy=True)"
   ]
  },
  {
   "cell_type": "markdown",
   "metadata": {},
   "source": [
    "As you update and change the files in your repository you will need to push those changes to gitlab or github.  The following instructions walk you though this process:"
   ]
  },
  {
   "cell_type": "code",
   "execution_count": null,
   "metadata": {},
   "outputs": [],
   "source": [
    "#Git Add Committ https://www.youtube.com/playlist?list=PLqPfbT7gwVP_AlE6HeDQUJsG4nUbGyeh3\n",
    "\n",
    "from IPython.display import YouTubeVideo\n",
    "YouTubeVideo(\"GTM-h5xX2Lk\",width=640,height=360, cc_load_policy=True)"
   ]
  },
  {
   "cell_type": "markdown",
   "metadata": {},
   "source": [
    "----\n",
    "\n",
    "## What not to include (building a .gitignore file)\n",
    "\n",
    "First thing we want to teach is is that not everything should go into a git repository.  i.e. we do not want to bloat our repository with unwanted files.  The git repository works best with Text files that represent \"source\" code and not compiled or generated code. Here are some basic guidelines of what not to include:\n",
    "\n",
    "\n",
    "* ```.ipynb_checkpoint``` - These folders are generated when you run jupyter notebooks.  They are \"temporary\" compiled folders that will change each time you run your notebook and should not be included in your repository. \n",
    "* ```__pychache__``` - Similar to .ipynb_checkpoint folders these folders are often generated when running python scripts and should not be included in your repository. \n",
    "* **_Other \"Temporary\" files_** - Temporary files are generated by all types of software and often start with a special characters such as the dot (.) or the tilde (~).  For example many text editors generate temporary files to save a document in case of a program crash.  Do not include temporary files in your repository. \n",
    "* **_Compiled Code_** - Programs such as C and FORTRAN must compile their code to an executable in order to run on your computer. These compiled codes are not editable and should be left out of your repository.  Instead it is better to include instructions for compiling the source code as part of your repository.  \n",
    "* **_Program Output_** - Do not include any program output in your repository (unless for very specific reasons such as documentation, testing, or figures in your final report).  Assume that any output that can be generated by the source code should not be included with the source code (it is redundant). \n",
    "\n",
    "A good rule of thumb is that if you did not generate the file and/or do not know what it is you probably do NOT want to include it in your repository. \n",
    "\n",
    "**_WARNING_** do not blindly add all files to your repository with the * (star) syntax.  This is bad practice. For example do NOT do the following:\n",
    "\n",
    "    git add * #THIS IS BAD!!!!\n",
    "\n",
    "### Other files to avoid\n",
    "\n",
    "In addition to the above files it is good to avoid any type of \"Binary\" file (with a few exceptions).  As stated early, git works best with text files so it can easily track changes. Some example binary files to avoid include:\n",
    "\n",
    "- **_Large Data files_**  Although it is good to include a few example inputs to your software, avoid using entire datasets.  It is best to store these files someplace else.  \n",
    "- **_Non-Text formats_** such as Word, Excel or PowerPoint documents should be avoided.  These tend to change each time they are opened even if the core text does not change. it is better to use an alternative text example. \n",
    "\n",
    "\n",
    "**_Note:_** one exception to the above rules are image files (ex jpg or png) that are used to help markdown or in the documentation.  It is typically okay to include these since they tend to get included only once and do not change much as the project evolves. \n",
    "\n",
    "The ```.gitignore``` (typically read \"dot git ignore\") is aa text file that contains a list of regular expressions (we will learn more about these later) that specify names of files we do not want to include in a git repository. \n",
    "\n",
    "\n",
    "### .gitignore file\n",
    "\n",
    "The ```.gitignore``` (read \"dot git ignore\") file is used to help keep unwanted files out of your project.  Each line ```.gitignore``` file are filenames you want git to ignore.  For example, based on what we said above, a  good place to start on your ```.gitignore``` file would be the following two lines:\n",
    "```\n",
    ".ipynbcheckpoint\n",
    "__pychache__\n",
    "```\n",
    "\n",
    "What should go into a .gitignore depends a lot on the type of project.  However, you don't need to invent these from scratch. For example, you could just copy the .gitignore file from the course repository or find one on the internet.  If you are using github I think it can also automatically create a .gitignore file for you if you specify your project as a python project. "
   ]
  },
  {
   "cell_type": "code",
   "execution_count": null,
   "metadata": {},
   "outputs": [],
   "source": [
    "#Hidden files https://www.youtube.com/playlist?list=PLqPfbT7gwVP_AlE6HeDQUJsG4nUbGyeh3\n",
    "\n",
    "from IPython.display import YouTubeVideo\n",
    "YouTubeVideo(\"kzI-mPSY8y4\",width=640,height=360, cc_load_policy=True)"
   ]
  },
  {
   "cell_type": "markdown",
   "metadata": {},
   "source": [
    "---\n",
    "\n",
    "## Avoid Spaces in file names\n",
    "\n",
    "When you name all of the files and folders inside of a repository, it is important that your names **_DO NOT include spaces_**.  Although all modern computer's have ways to accept names with spaces do not use them.  Instead use underscores (\\_) or ```CamleCase``` (No spaces and capital letters at the beginning of each word in the name).  Avoiding spaces in your names will **_ALWAYS_** save time in the long run.  "
   ]
  },
  {
   "cell_type": "markdown",
   "metadata": {},
   "source": [
    "----\n",
    "\n",
    "## Always Use Relative Paths\n",
    "\n",
    "In your code there are two basic ways to determine the location of a folder inside your computer; Relative Paths and Absolute Paths.  A relative path is a path starting from your current directory and an absolute path is is a path starting from your computer's \"root\" directory.  \n",
    "\n",
    "- Relative paths typically start with a single dot (.), representing the currecnt directory, or two double dots (..) representing the current directories parent folder.\n",
    "- Absolute paths typically start at the global root directory (/) on a Linux or Mac machine or with a drive label (ex C:) on a windows machine.  \n",
    "\n",
    "**_ALWAYS_** use relative paths in your git repository.  This ensures that others will be able to use your software if they download it onto their computer.  For example:\n",
    "\n",
    "    Good: ./data/  or ../data/ is a relative path to a child directory or sibling directory called data. \n",
    "    Bad (not acceptable): C:/research/data or /mnt/home/data are absolute paths to a data directory\n",
    " \n",
    " "
   ]
  },
  {
   "cell_type": "markdown",
   "metadata": {},
   "source": [
    "----\n",
    "\n",
    "## Jupyter notebook files in git repositories\n",
    "\n",
    "Turns out that Jupyter notebook files and git repositories work very poorly together.  Jupyter notebook files are a unique combination of source and program generated information.  So, everytime you run a jupyter file it can add output cells which make git think you you changed something important. In many cases it is just a few numbers or some output text.  When you run the ```git status``` command it always looks like jupyter notebook files have changed even when they have not changed. \n",
    "\n",
    "A good rule of thumb is to clear all of the output files before committing any changes to jupyter notebook files.  \n",
    "\n",
    "- Open the jupyter notebook file\n",
    "- Select \"Reset Kernel and clear output\" from the menu\n",
    "- Save the notebook file.\n",
    "- Do your \"git add\" and \"git commit\" commands\n",
    "\n",
    "The following video goes though why we have to treat jupyter notebooks this way:\n",
    "\n",
    "[Direct Link](https://www.youtube.com/embed/79hW_TzLos8)"
   ]
  },
  {
   "cell_type": "code",
   "execution_count": null,
   "metadata": {},
   "outputs": [],
   "source": [
    "# Jupyter vs. Git -- https://www.youtube.com/playlist?list=PLqPfbT7gwVP_AlE6HeDQUJsG4nUbGyeh3\n",
    "from IPython.display import YouTubeVideo\n",
    "YouTubeVideo(\"79hW_TzLos8\",width=640,height=360, cc_load_policy=True)"
   ]
  },
  {
   "cell_type": "markdown",
   "metadata": {},
   "source": [
    "\n",
    "\n",
    "---\n",
    "<a name=-Turning-in-your-Project></a>\n",
    "# 4.  Turning in your Project\n",
    "\n",
    "\n",
    "In order to turn in your GIT repository you just need to give the instructors and classmates the permissions to clone the repository and provide the full git command. Please use the following form to submit this information.\n",
    "\n",
    "Or if you prefer, you can use the [Direct Link](https://docs.google.com/forms/d/e/1FAIpQLSe7E2CNUuAsRf-UyEROPB2ESA_f9OyARExk4gnnCZiPR-lQDQ/viewform)"
   ]
  },
  {
   "cell_type": "code",
   "execution_count": null,
   "metadata": {},
   "outputs": [],
   "source": [
    "from IPython.display import HTML\n",
    "HTML(\n",
    "\"\"\"\n",
    "<iframe \n",
    "\tsrc=\"https://docs.google.com/forms/d/e/1FAIpQLSe7E2CNUuAsRf-UyEROPB2ESA_f9OyARExk4gnnCZiPR-lQDQ/viewform\" \n",
    "\twidth=\"100%\" \n",
    "\theight=\"1100px\" \n",
    "\tframeborder=\"0\" \n",
    "\tmarginheight=\"0\" \n",
    "\tmarginwidth=\"0\">\n",
    "\tLoading...\n",
    "</iframe>\n",
    "\"\"\"\n",
    ")"
   ]
  },
  {
   "cell_type": "markdown",
   "metadata": {},
   "source": [
    "---\n",
    "\n",
    "# 4. Rubric\n",
    "\n",
    "I am not a big fan of giving student's detailed rubrics like this one because i think it is important for students to be able to determine on their own what is \"good\" work and what is not.   However, not having a rubric is also not really fair because it can be difficult to know what an instructor will expect from you;  this is especially true the first time something is turned in.   Please use the following as a guild and I reserve the right to change my grading slightly based on the submissions and effort:\n",
    "\n",
    "```\n",
    "(50 points) Proposal\n",
    "    - (5 points) Is there a project title?\n",
    "    - (5 points) Is there a motivating picture included and referenced?\n",
    "    - (10 points) Is the abstract well written and easy to understand?\n",
    "    - (5 points) Are there due dates and milestones in the schedule?\n",
    "    - (10 points) Are the goals for Part1 clear from the proposal, including links and references?\n",
    "    - (10 points) Are the goals for Part2 clear from the proposal, including links and references?\n",
    "    - (5 points) Is the proposal written in ipynb or md file? \n",
    "\n",
    "(50 points) Correctly setting up your git repository\n",
    "    - (10 points) Was everything turned in on time?\n",
    "    - (10 points) Is there a gitignore file (does it work)?\n",
    "    - (10 points) Are the permissions to the git repository set up correctly?\n",
    "    - (5 points) Does the project use correct Filenames?\n",
    "    - (5 points) Does the project have any temporary or hidden files that should not be included?\n",
    "    - (10 points) Were all directions followed?\n",
    "    \n",
    "100 points total\n",
    "```\n"
   ]
  },
  {
   "cell_type": "markdown",
   "metadata": {},
   "source": [
    "-----\n",
    "### Congratulations, you are done!\n",
    "\n",
    "Your instructor can download your git report using the link you provided in the above Google form."
   ]
  },
  {
   "cell_type": "markdown",
   "metadata": {},
   "source": [
    "Written by Dr. Dirk Colbry, Michigan State University\n",
    "<a rel=\"license\" href=\"http://creativecommons.org/licenses/by-nc/4.0/\"><img alt=\"Creative Commons License\" style=\"border-width:0\" src=\"https://i.creativecommons.org/l/by-nc/4.0/88x31.png\" /></a><br />This work is licensed under a <a rel=\"license\" href=\"http://creativecommons.org/licenses/by-nc/4.0/\">Creative Commons Attribution-NonCommercial 4.0 International License</a>."
   ]
  },
  {
   "cell_type": "markdown",
   "metadata": {},
   "source": [
    "----"
   ]
  }
 ],
 "metadata": {
  "anaconda-cloud": {},
  "kernelspec": {
   "display_name": "Python 3",
   "language": "python",
   "name": "python3"
  },
  "language_info": {
   "codemirror_mode": {
    "name": "ipython",
    "version": 3
   },
   "file_extension": ".py",
   "mimetype": "text/x-python",
   "name": "python",
   "nbconvert_exporter": "python",
   "pygments_lexer": "ipython3",
   "version": "3.8.3"
  }
 },
 "nbformat": 4,
 "nbformat_minor": 1
}
